{
 "cells": [
  {
   "cell_type": "markdown",
   "metadata": {
    "slideshow": {
     "slide_type": "skip"
    }
   },
   "source": [
    "### Cover Slide 1\n",
    "\n",
    "Using [this palette](http://www.color-hex.com/color-palette/48419) to add color apart from regular custom.css provided."
   ]
  },
  {
   "cell_type": "raw",
   "metadata": {
    "slideshow": {
     "slide_type": "slide"
    }
   },
   "source": [
    "<div align=\"center\">\n",
    "<div><h2 style=\"font-weight:bold\">Machine Learning models in Production* using <font color=\"#a70000\">Flask</font> & <font color=\"#00534e\">Docker</font></h2></div>\n",
    "<p>&nbsp;</p>\n",
    "<p>&nbsp;</p>\n",
    "</div>"
   ]
  },
  {
   "cell_type": "raw",
   "metadata": {
    "slideshow": {
     "slide_type": "slide"
    }
   },
   "source": [
    "<div align=\"center\">\n",
    "<div>\n",
    "<h3 style=\"color:#a70000;font-weight:bold;\">About me</h3>\n",
    "</div>\n",
    "<p>&nbsp;</p>\n",
    "<p style=\"font-weight:bold\"><b>Prathamesh Sarang</b></p>\n",
    "<p style=\"color:#00534e;font-weight:bold\"><b>Data Scientist @ Lemoxo Technologies</b></p>\n",
    "<p style=\"text-transform: lowercase; font-weight:bold\"><b>Tweet me</b> <font color=\"#0088b2\">@prthmshs</font></p>\n",
    "</div>"
   ]
  },
  {
   "cell_type": "raw",
   "metadata": {
    "slideshow": {
     "slide_type": "slide"
    }
   },
   "source": [
    "<div align=\"center\">\n",
    "<div class=\"divider_h1\">\n",
    "<h3 style=\"color:#a70000; font-weight:bold\">Code and Slides for this talk</h3>\n",
    "</div>\n",
    "<p>&nbsp;</p>\n",
    "<h4 style=\"text-transform: lowercase;font-weight:bold;\">Code: <font color=\"#0088b2\">https://github.com/pratos/datahack2017-workshop-av (Still private)</font></h4>\n",
    "<h4 style=\"text-transform: lowercase;font-weight:bold\">Slides: <font color=\"#00534e\">https://pratos.github.io/datahack2017-workshop-av(Not published)</font></h4>\n",
    "</div>"
   ]
  },
  {
   "cell_type": "raw",
   "metadata": {
    "raw_mimetype": "text/html",
    "slideshow": {
     "slide_type": "slide"
    }
   },
   "source": [
    "<div class=\"divider_h1\" align=\"center\">\n",
    "<h1 style=\"font-weight:bold;\"><font color=\"#ff9900\">* WITH A REASON!<font></h1>\n",
    "</div>"
   ]
  },
  {
   "cell_type": "raw",
   "metadata": {
    "slideshow": {
     "slide_type": "slide"
    }
   },
   "source": [
    "<div align=\"center\">\n",
    "<h3 style=\"color:#a70000; font-weight:bold\">Afterlife of a Machine Learning Model</h3>\n",
    "\n",
    "\n",
    "<img src=\"http://www.maicar.com/GML/000Iconography/Hermes/slides/smi160.jpg\" height=\"500px\" width=\"500px\"/>\n",
    "<div>"
   ]
  },
  {
   "cell_type": "raw",
   "metadata": {
    "slideshow": {
     "slide_type": "slide"
    }
   },
   "source": [
    "<div align=\"center\">\n",
    "<h2 style=\"font-weight:bold;\">The night(<font color=\"red\">production</font>) is dark(<font color=\"red\">dependencies</font>) and full of terrors(<font color=\"red\">bugs</font>)</h2>\n",
    "</div>"
   ]
  },
  {
   "cell_type": "raw",
   "metadata": {
    "slideshow": {
     "slide_type": "slide"
    }
   },
   "source": [
    "<div align=\"center\">\n",
    "<h3 style=\"color:#a70000; font-weight:bold\">Structure of Hack Session</h3>\n",
    "</div>"
   ]
  },
  {
   "cell_type": "markdown",
   "metadata": {
    "slideshow": {
     "slide_type": "fragment"
    }
   },
   "source": [
    "<p>How <font color=\"#00534e\" style=\"font-weight:bold;\">Flask</font> can be used to create an end-point quickly.</p>"
   ]
  },
  {
   "cell_type": "markdown",
   "metadata": {
    "slideshow": {
     "slide_type": "fragment"
    }
   },
   "source": [
    "<p><font color=\"#00534e\" style=\"font-weight:bold;\">Demo</font> to wrap an ML Model.</p>"
   ]
  },
  {
   "cell_type": "markdown",
   "metadata": {
    "slideshow": {
     "slide_type": "fragment"
    }
   },
   "source": [
    "<p><font color=\"#00534e\" style=\"font-weight:bold;\">Docker</font> basics</p>"
   ]
  },
  {
   "cell_type": "markdown",
   "metadata": {
    "slideshow": {
     "slide_type": "fragment"
    }
   },
   "source": [
    "<p>Deploying the <font color=\"#00534e\" style=\"font-weight:bold;\">ML API</font></p>"
   ]
  },
  {
   "cell_type": "raw",
   "metadata": {
    "slideshow": {
     "slide_type": "slide"
    }
   },
   "source": [
    "<div align=\"center\">\n",
    "<h3 style=\"font-weight:bold;\">To summarize things, we'll be playing <font color=\"#a70000\">Professor Utonium</font> today!</h3>\n",
    "\n",
    "<img src=\"https://memegenerator.net/img/images/600x600/11556716/powerpuffgirls.jpg\" />\n",
    "</div>"
   ]
  },
  {
   "cell_type": "raw",
   "metadata": {
    "raw_mimetype": "text/html",
    "slideshow": {
     "slide_type": "slide"
    }
   },
   "source": [
    "<div class=\"divider_h1\" align=\"center\">\n",
    "<h1 style=\"font-weight:bold;\"><font color=\"#ff9900\">DEMO: HELLO-WORLD<font></h1>\n",
    "</div>"
   ]
  },
  {
   "cell_type": "raw",
   "metadata": {
    "slideshow": {
     "slide_type": "slide"
    }
   },
   "source": [
    "<div align=\"center\">\n",
    "<h3 style=\"color:#a70000; font-weight:bold;\">Using Flask</h3>\n",
    "</div>"
   ]
  },
  {
   "cell_type": "markdown",
   "metadata": {
    "slideshow": {
     "slide_type": "fragment"
    }
   },
   "source": [
    "#### Pros:\n",
    "\n",
    "<p>Pretty lightweight & easy to start with</p>\n",
    "<p>Great documentation.</p>\n",
    "<p>Nice little flask specific extras and flexibility to use other components.<p>"
   ]
  },
  {
   "cell_type": "raw",
   "metadata": {
    "slideshow": {
     "slide_type": "subslide"
    }
   },
   "source": [
    "<div align=\"center\">\n",
    "<h3 style=\"color:#a70000; font-weight:bold;\">Using Flask</h3>\n",
    "</div>"
   ]
  },
  {
   "cell_type": "markdown",
   "metadata": {
    "slideshow": {
     "slide_type": "fragment"
    }
   },
   "source": [
    "#### Cons:\n",
    "\n",
    "<p>Implementing async is a problem since it isn't baked in the framework.</p>\n",
    "<p>Better, faster frameworks just to create web services like Falcon beat Flask hands down.</p>"
   ]
  },
  {
   "cell_type": "raw",
   "metadata": {
    "slideshow": {
     "slide_type": "slide"
    }
   },
   "source": [
    "<div class=\"divider_h1\" align=\"center\">\n",
    "<h1 style=\"font-weight:bold;\"><font color=\"#5ea774\">DEMO:WRAPPING ML MODELS<font></h1>\n",
    "</div>"
   ]
  },
  {
   "cell_type": "raw",
   "metadata": {
    "slideshow": {
     "slide_type": "slide"
    }
   },
   "source": [
    "<div align=\"center\">\n",
    "<h3 style=\"color:#a70000; font-weight:bold;\">There are three important parts in constructing our wrapper function, <font color=\"black\">apicall()</font></h3>\n",
    "</div>"
   ]
  },
  {
   "cell_type": "markdown",
   "metadata": {
    "slideshow": {
     "slide_type": "fragment"
    }
   },
   "source": [
    "<p>Getting the request data (for which predictions are to be made).</p>"
   ]
  },
  {
   "cell_type": "markdown",
   "metadata": {
    "slideshow": {
     "slide_type": "fragment"
    }
   },
   "source": [
    "<p>Loading our pickled estimator.</p>"
   ]
  },
  {
   "cell_type": "markdown",
   "metadata": {
    "slideshow": {
     "slide_type": "fragment"
    }
   },
   "source": [
    "<p><font color=\"#810000\" style=\"font-weight:bold;\">jsonify</font> our predictions and send the response back with status code: <font color=\"#810000\" >200</font></p>"
   ]
  },
  {
   "cell_type": "raw",
   "metadata": {
    "slideshow": {
     "slide_type": "slide"
    }
   },
   "source": [
    "<div class=\"divider_h1\" align=\"center\">\n",
    "    <h1 style=\"font-weight:bold;\"><font color=\"#ff9900\">WHY DOCKER?<font></h1>\n",
    "</div>"
   ]
  },
  {
   "cell_type": "raw",
   "metadata": {
    "slideshow": {
     "slide_type": "slide"
    }
   },
   "source": [
    "<div align=\"center\">\n",
    "<h3 style=\"color:#a70000; font-weight:bold\">My Docker Story</h3>\n",
    "\n",
    "\n",
    "<img src=\"https://i.ytimg.com/vi/203OAQYDKNw/maxresdefault.jpg\" height=\"500px\" width=\"600px\"/>\n",
    "<div>"
   ]
  },
  {
   "cell_type": "raw",
   "metadata": {
    "slideshow": {
     "slide_type": "slide"
    }
   },
   "source": [
    "<div align=\"center\">\n",
    "<h3 style=\"color:#a70000; font-weight:bold;\">Learning Docker:Week 2</h3>\n",
    "\n",
    "\n",
    "<img src=\"http://pa1.narvii.com/6520/bef674a11cc0772b812cb91bbaa9082a4cea0285_hq.gif\" height=\"400px\" width=\"500px\"/>\n",
    "<div>"
   ]
  },
  {
   "cell_type": "markdown",
   "metadata": {
    "slideshow": {
     "slide_type": "slide"
    }
   },
   "source": [
    "<div align=\"center\">\n",
    "    <h3 style=\"color:#a70000; font-weight:bold;\">Docker Basics</h3>\n",
    "    <p><b>Docker’s motto is: Build, Ship & Run everywhere.</b></p>\n",
    "    <img src=\"https://d3nmt5vlzunoa1.cloudfront.net/phpstorm/files/2015/10/large_v-trans.png\" width=\"400px;\" height=\"500px;\"/>\n",
    "</div>"
   ]
  },
  {
   "cell_type": "markdown",
   "metadata": {
    "slideshow": {
     "slide_type": "slide"
    }
   },
   "source": [
    "<div align=\"center\">\n",
    "    <h3 style=\"color:#a70000; font-weight:bold\">Docker Terminology</h3>\n",
    "    <p><b style=\"color:#0088b2;\">Docker Containers:</b> Small user-level virtualization (isolation) that helps you install, build and run your code/workflow. All the code would be continuously running in these containers.</p>\n",
    "    \n",
    "</div>"
   ]
  },
  {
   "cell_type": "markdown",
   "metadata": {
    "slideshow": {
     "slide_type": "subslide"
    }
   },
   "source": [
    "<div align=\"center\">\n",
    "<p><b style=\"color:#0088b2;\">Dockerfile:</b> It is a file from which Docker creates an image. It can be thought of as an automated script that has all the steps you want to execute.</p>\n",
    "</div>"
   ]
  },
  {
   "cell_type": "markdown",
   "metadata": {
    "slideshow": {
     "slide_type": "subslide"
    }
   },
   "source": [
    "<div align=\"center\">\n",
    "<p><b style=\"color:#0088b2;\">Docker Images:</b> An image is an inert, immutable, file that’s essentially a snapshot of a container.</p>\n",
    "</div>"
   ]
  },
  {
   "cell_type": "raw",
   "metadata": {
    "slideshow": {
     "slide_type": "slide"
    }
   },
   "source": [
    "<div align=\"center\">\n",
    "    <h3 style=\"color:#810000; font-weight:bold;\">Docker Architecture</h3>\n",
    "    <img src=\"https://docs.docker.com/engine/article-img/architecture.svg\" height=\"600px;\" width=\"850px;\"/>\n",
    "</div>"
   ]
  },
  {
   "cell_type": "raw",
   "metadata": {
    "slideshow": {
     "slide_type": "slide"
    }
   },
   "source": [
    "<div class=\"divider_h1\" align=\"center\">\n",
    "<h1 style=\"font-weight:bold;\"><font color=\"#ff9900\">DEMO: DOCKER HELLO-WORLD<font></h1>\n",
    "</div>"
   ]
  },
  {
   "cell_type": "raw",
   "metadata": {
    "slideshow": {
     "slide_type": "slide"
    }
   },
   "source": [
    "<div class=\"divider_h1\" align=\"center\">\n",
    "<h1 style=\"font-weight:bold;\"><font color=\"#ff9900\">DEPLOYING AS WEB ENDPOINT<font></h1>\n",
    "</div>"
   ]
  },
  {
   "cell_type": "raw",
   "metadata": {
    "slideshow": {
     "slide_type": "slide"
    }
   },
   "source": [
    "<div align=\"center\">\n",
    "<h3 style=\"color:#810000; font-weight:bold;\">Introduction to docker-machine</h3>\n",
    "</div>"
   ]
  },
  {
   "cell_type": "markdown",
   "metadata": {
    "slideshow": {
     "slide_type": "fragment"
    }
   },
   "source": [
    "<p>Docker provides us the easiest way to run our containers on public cloud platforms - AWS, Azure, Google Cloud Platform, etc.</p>"
   ]
  },
  {
   "cell_type": "markdown",
   "metadata": {
    "slideshow": {
     "slide_type": "subslide"
    }
   },
   "source": [
    "<p>You can do this via <font color=\"#0088b2\">docker-machine</font>. What <font color=\"#0088b2\">docker-machine</font> is:</p>\n",
    "<p>&nbsp;</p>\n",
    "> Docker Machine is a tool that lets you install Docker Engine on virtual hosts, and manage the hosts with `docker-machine` commands. You can use Machine to create Docker hosts on your local Mac or Windows box, on your company network, in your data center, or on cloud providers like Azure, AWS, or Digital Ocean. "
   ]
  },
  {
   "cell_type": "markdown",
   "metadata": {
    "slideshow": {
     "slide_type": "subslide"
    }
   },
   "source": [
    "Using <font color=\"#0088b2\">docker-machine</font> commands, you can start, inspect, stop, and restart a managed host, upgrade the Docker client and daemon, and configure a Docker client to talk to your host."
   ]
  },
  {
   "cell_type": "markdown",
   "metadata": {
    "slideshow": {
     "slide_type": "slide"
    }
   },
   "source": [
    "<div align=\"center\">\n",
    "    <h3 style=\"color:#810000; font-weight:bold;\">How <font color=\"black\">docker-machine</font> works</h3>\n",
    "    <br/>\n",
    "    <img src=\"https://docs.docker.com/machine/img/machine.png\" />\n",
    "</div>"
   ]
  },
  {
   "cell_type": "markdown",
   "metadata": {
    "slideshow": {
     "slide_type": "skip"
    }
   },
   "source": [
    "#### Deploying the hello-world application, explaining all the nitty-gritties"
   ]
  },
  {
   "cell_type": "raw",
   "metadata": {
    "slideshow": {
     "slide_type": "slide"
    }
   },
   "source": [
    "<div align=\"center\">\n",
    "<h3 style=\"color:#a70000; font-weight:bold;\">Ain't it magic!</h3>\n",
    "\n",
    "\n",
    "<img src=\"https://camo.githubusercontent.com/da6ba2c9867e638570013de800d866927d10eef3/687474703a2f2f7777772e7265616374696f6e676966732e636f6d2f722f6d67632e676966\" height=\"400px\" width=\"600px\"/>\n",
    "<div>"
   ]
  },
  {
   "cell_type": "markdown",
   "metadata": {
    "slideshow": {
     "slide_type": "skip"
    }
   },
   "source": [
    "#### Docker + Flask: Final Demo Cue"
   ]
  },
  {
   "cell_type": "raw",
   "metadata": {
    "slideshow": {
     "slide_type": "slide"
    }
   },
   "source": [
    "<div class=\"divider_h1\" align=\"center\">\n",
    "<h1 style=\"font-weight:bold;\"><font color=\"#5ea774\">DOCKER + FLASK<font></h1>\n",
    "</div>"
   ]
  },
  {
   "cell_type": "raw",
   "metadata": {
    "slideshow": {
     "slide_type": "slide"
    }
   },
   "source": [
    "<div align=\"center\">\n",
    "<h3 style=\"color:#a70000; font-weight:bold;\">We done!</h3>\n",
    "\n",
    "\n",
    "<iframe src=\"https://giphy.com/embed/Mp4hQy51LjY6A\" width=\"600\" height=\"400\" frameBorder=\"0\" class=\"giphy-embed\" allowFullScreen></iframe><p><a href=\"https://giphy.com/gifs/smile-done-Mp4hQy51LjY6A\">via GIPHY</a></p>\n",
    "<div>"
   ]
  },
  {
   "cell_type": "markdown",
   "metadata": {
    "slideshow": {
     "slide_type": "skip"
    }
   },
   "source": [
    "### Q&A Slide"
   ]
  },
  {
   "cell_type": "raw",
   "metadata": {
    "slideshow": {
     "slide_type": "slide"
    }
   },
   "source": [
    "<div class=\"divider_h1\" align=\"center\">\n",
    "<h1 style=\"font-weight:bold;\"><font color=\"#5ea774\">QUESTIONS?<font></h1>\n",
    "</div>"
   ]
  },
  {
   "cell_type": "markdown",
   "metadata": {
    "slideshow": {
     "slide_type": "skip"
    }
   },
   "source": [
    "### Final Slide while questions:"
   ]
  },
  {
   "cell_type": "raw",
   "metadata": {
    "slideshow": {
     "slide_type": "slide"
    }
   },
   "source": [
    "<div align=\"center\">\n",
    "<div class=\"divider_h1\">\n",
    "<h3 style=\"color:#a70000; font-weight:bold;\">Code and Slides for this talk</h3>\n",
    "</div>\n",
    "<p>&nbsp;</p>\n",
    "<h4 style=\"text-transform: lowercase; font-weight:bold;\">Code: <font color=\"#0088b2\">https://github.com/pratos/datahack2017-workshop-av</font></h4>\n",
    "<h4 style=\"text-transform: lowercase; font-weight:bold;\">Slides: <font color=\"#00534e\">https://pratos.github.io/datahack2017-workshop-av</font></h4>\n",
    "\n",
    "<p>&nbsp;</p>\n",
    "<div class=\"divider_h1\">\n",
    "<h3 style=\"color:#a70000; font-weight:bold;\">Contact me via</h3>\n",
    "</div>\n",
    "<h4 style=\"text-transform: lowercase; font-weight:bold;\">Mail: <font color=\"#0088b2\">mail@pratos.in</font></h4>\n",
    "<h4 style=\"text-transform: lowercase; font-weight:bold\">Tweet: <font color=\"#0088b2\">@prthmshs</font></h4>\n",
    "<p>Raise an issue in the github repo.</p>\n",
    "</div>"
   ]
  }
 ],
 "metadata": {
  "celltoolbar": "Slideshow",
  "kernelspec": {
   "display_name": "Python 3",
   "language": "python",
   "name": "python3"
  },
  "language_info": {
   "codemirror_mode": {
    "name": "ipython",
    "version": 3
   },
   "file_extension": ".py",
   "mimetype": "text/x-python",
   "name": "python",
   "nbconvert_exporter": "python",
   "pygments_lexer": "ipython3",
   "version": "3.6.2"
  },
  "widgets": {
   "state": {},
   "version": "1.1.2"
  }
 },
 "nbformat": 4,
 "nbformat_minor": 1
}
